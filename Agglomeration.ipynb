{
 "cells": [
  {
   "cell_type": "code",
   "execution_count": 167,
   "metadata": {
    "collapsed": true
   },
   "outputs": [],
   "source": [
    "# Imports used in model\n",
    "from mpl_toolkits.basemap import Basemap\n",
    "import numpy as np\n",
    "import matplotlib.pyplot as plt\n",
    "import geopandas as gp\n",
    "import time\n",
    "import linecache\n",
    "import rasterio\n",
    "import pandas as pd\n",
    "# Places matplot library inline\n",
    "%matplotlib inline"
   ]
  },
  {
   "cell_type": "code",
   "execution_count": 168,
   "metadata": {
    "collapsed": false
   },
   "outputs": [],
   "source": [
    "# Read in temperature at gage locations\n",
    "temp_data = np.genfromtxt(r'C:\\Users\\m2echjmh\\Desktop\\Evap_CURG\\IDWM\\temp.csv', delimiter=None, skip_header=0, skip_footer=0, converters=None, filling_values= -9999)\n",
    "# temp_data"
   ]
  },
  {
   "cell_type": "code",
   "execution_count": 169,
   "metadata": {
    "collapsed": false
   },
   "outputs": [],
   "source": [
    "# Read in shapefile containing x,y coordinates of gage locations\n",
    "gage_loc = gp.GeoDataFrame.from_file(r'C:\\Users\\m2echjmh\\Desktop\\Evap_CURG\\IDWM\\Gage.shp')\n",
    "# gage_loc.plot()\n",
    "gage_loc_np = gage_loc.as_matrix(['POINT_X','POINT_Y'])\n",
    "# gage_loc_np"
   ]
  },
  {
   "cell_type": "code",
   "execution_count": 170,
   "metadata": {
    "collapsed": false
   },
   "outputs": [
    {
     "data": {
      "text/plain": [
       "'\\n# Load a precipitation ascii grid as template \\nprecip_array_np = np.loadtxt(r\\'C:\\\\Users\\\\m2echjmh\\\\Desktop\\\\Evap_CURG\\\\IDWM\\x01HR_2013Oct31_0100.tin.asc\\', skiprows=6)\\n\\n# Load header of ascii grid as template\\nx=1\\nheader_list = []\\nwhile x < 7:\\n    header_list.append(linecache.getline(r\\'C:\\\\Users\\\\m2echjmh\\\\Desktop\\\\Evap_CURG\\\\IDWM\\x01HR_2013Oct31_0100.tin.asc\\', x))\\n    x+=1\\nheader_tuple = tuple(header_list)\\n#header_tuple\\n\\n#Mask every position where there is a -9999:\\nmasked_data = np.ma.masked_equal(precip_array_np, -9999)\\n\\n#Plot the matrix:\\n#fig = plt.figure()\\nax = fig.gca()\\ncolmap = plt.get_cmap(\\'gist_ncar\\') \\nax.matshow(masked_data, cmap=colmap) #_r => reverse the standard color map\\n#plt.tight_layout()\\n#plt.savefig(\"rainfall_griddata.png\", format=\"png\", bbox_inches=\\'tight\\', transparent=True, dpi=300)\\n#plt.show()\\n\\n'"
      ]
     },
     "execution_count": 170,
     "metadata": {},
     "output_type": "execute_result"
    }
   ],
   "source": [
    "# Code developed and can be used at a later date for sizing & understanding grids\n",
    "'''\n",
    "# Load a precipitation ascii grid as template \n",
    "precip_array_np = np.loadtxt(r'C:\\Users\\m2echjmh\\Desktop\\Evap_CURG\\IDWM\\1HR_2013Oct31_0100.tin.asc', skiprows=6)\n",
    "\n",
    "# Load header of ascii grid as template\n",
    "x=1\n",
    "header_list = []\n",
    "while x < 7:\n",
    "    header_list.append(linecache.getline(r'C:\\Users\\m2echjmh\\Desktop\\Evap_CURG\\IDWM\\1HR_2013Oct31_0100.tin.asc', x))\n",
    "    x+=1\n",
    "header_tuple = tuple(header_list)\n",
    "#header_tuple\n",
    "\n",
    "#Mask every position where there is a -9999:\n",
    "masked_data = np.ma.masked_equal(precip_array_np, -9999)\n",
    "\n",
    "#Plot the matrix:\n",
    "#fig = plt.figure()\n",
    "ax = fig.gca()\n",
    "colmap = plt.get_cmap('gist_ncar') \n",
    "ax.matshow(masked_data, cmap=colmap) #_r => reverse the standard color map\n",
    "#plt.tight_layout()\n",
    "#plt.savefig(\"rainfall_griddata.png\", format=\"png\", bbox_inches='tight', transparent=True, dpi=300)\n",
    "#plt.show()\n",
    "\n",
    "'''"
   ]
  },
  {
   "cell_type": "code",
   "execution_count": 171,
   "metadata": {
    "collapsed": false
   },
   "outputs": [],
   "source": [
    "# Code to create a coordinate array of grid cell centriods starting at lower left and working to upper right \n",
    "'''\n",
    "start = time.time()\n",
    "i = -796\n",
    "j = 76\n",
    "counter = 0\n",
    "coor = np.zeros((860475,2))\n",
    "while j < 901:\n",
    "    while i < 247:\n",
    "        coor[counter]= i,j\n",
    "        i += 1\n",
    "        counter += 1\n",
    "    j += 1\n",
    "    i = -796\n",
    "end = time.time()\n",
    "print end - start\n",
    "np.save('coor', coor)\n",
    "'''\n",
    "coor_np = np.load(file='coor.npy')"
   ]
  },
  {
   "cell_type": "code",
   "execution_count": 172,
   "metadata": {
    "collapsed": false
   },
   "outputs": [
    {
     "name": "stdout",
     "output_type": "stream",
     "text": [
      "(1L, 825L, 1043L)\n"
     ]
    }
   ],
   "source": [
    "# Load raster tiff generated in arcgis that is projected in correct coordinate system\n",
    "with rasterio.open(r'C:\\Users\\m2echjmh\\Desktop\\Evap_CURG\\IDWM\\basin_raster4.tif', 'r+') as r:\n",
    "    basin = r.read()  # read all raster values\n",
    "    print(basin.shape)  # this is a numpy array, with dimensions [band, row, col]\n",
    "    r.write(basin)"
   ]
  },
  {
   "cell_type": "code",
   "execution_count": 173,
   "metadata": {
    "collapsed": true
   },
   "outputs": [],
   "source": [
    "# resize array back to 2D\n",
    "basin_np = np.squeeze(basin)"
   ]
  },
  {
   "cell_type": "code",
   "execution_count": 174,
   "metadata": {
    "collapsed": false
   },
   "outputs": [],
   "source": [
    "#Function for calculating Euclidian distance\n",
    "def Eucl_Dis(gage, coor):\n",
    "    D = np.sqrt(((gage-coor)**2)[0]+((gage-coor)**2)[1])\n",
    "    return D"
   ]
  },
  {
   "cell_type": "code",
   "execution_count": 175,
   "metadata": {
    "collapsed": false,
    "scrolled": false
   },
   "outputs": [],
   "source": [
    "# Bring in lat long of polygons\n",
    "import geopandas as gp\n",
    "subbasin = gp.GeoDataFrame.from_file(\n",
    "    'C:\\Users\\m2echjmh\\Desktop\\Evap_CURG\\Trinity_Subbasins\\Subbasin265.shp')\n",
    "subbasin_lat=subbasin.as_matrix(['Lat','Long'])"
   ]
  },
  {
   "cell_type": "code",
   "execution_count": 176,
   "metadata": {
    "collapsed": false
   },
   "outputs": [],
   "source": [
    "# Code to create a array of distances to gages for every x,y coordinate in grid cell\n",
    "# Code takes around 26 minutes for 50 gages\n",
    "'''\n",
    "j= 0\n",
    "i= 0\n",
    "jmax=len(D)\n",
    "imax=D.size/len(D)\n",
    "start = time.time()\n",
    "while j < jmax:\n",
    "    while i < imax:\n",
    "        D[j][i] = Eucl_Dis(np_gage[i], np_coor[j])\n",
    "        i +=1\n",
    "    j += 1\n",
    "    i = 0\n",
    "end = time.time()\n",
    "np.save('D_matrix', D)\n",
    "end-start\n",
    "'''\n",
    "distance_data = np.load(file='D_matrix.npy')"
   ]
  },
  {
   "cell_type": "code",
   "execution_count": 177,
   "metadata": {
    "collapsed": true
   },
   "outputs": [],
   "source": [
    "# Hamon Equation\n",
    "def Hamon(J, T_a, phi):\n",
    "    return 0.55*(((24.0/3.14)*(np.arccos(-1.0*np.tan(np.deg2rad(phi))*np.tan(0.4093*np.sin((((2.0*np.pi)/365.0)*J)-1.405))))/12)**2)*(2166.74*((0.6108*np.exp((17.27*((T_a-32.0)*(5.0/9.0)))/(237.3+(T_a-32.0)*(5.0/9.0))))/((T_a-32.0)*(5.0/9.0)+273.15))/100)"
   ]
  },
  {
   "cell_type": "code",
   "execution_count": 178,
   "metadata": {
    "collapsed": true
   },
   "outputs": [],
   "source": [
    "def IDWF(ID_array,Value_column):\n",
    "    array = np.sum(ID_array*Value_column,axis=1)/np.sum(ID_array,axis=1)\n",
    "    return array"
   ]
  },
  {
   "cell_type": "code",
   "execution_count": 179,
   "metadata": {
    "collapsed": false
   },
   "outputs": [
    {
     "data": {
      "text/plain": [
       "2"
      ]
     },
     "execution_count": 179,
     "metadata": {},
     "output_type": "execute_result"
    }
   ],
   "source": [
    "# Read in temperature at gage locations\n",
    "temp_data = pd.read_csv(r'C:\\Users\\m2echjmh\\Desktop\\Evap_CURG\\IDWM\\temp_complete.csv', sep='\\s+', delimiter=',',header=0, names=None, index_col=None, usecols=None, squeeze=False, prefix=None, mangle_dupe_cols=True, dtype=None, engine=None, converters=None, true_values=None, false_values=None, skipinitialspace=True, skiprows=6, na_values=None, keep_default_na=True, na_filter=True, verbose=False, skip_blank_lines=True, parse_dates=False, infer_datetime_format=True, keep_date_col=True, date_parser=None, dayfirst=False, iterator=False, chunksize=None, compression='infer', thousands=None, decimal='.', lineterminator=None, quotechar='\"', quoting=0, escapechar=None, comment=None, encoding=None, dialect=None, tupleize_cols=False, error_bad_lines=True, warn_bad_lines=True, skipfooter=0, skip_footer=0, doublequote=True, delim_whitespace=False, as_recarray=False, compact_ints=False, use_unsigned=False, low_memory=True, buffer_lines=None, memory_map=False, float_precision=None)\n",
    "temp_data['Time'] = pd.to_datetime(temp_data['Time'])"
   ]
  },
  {
   "cell_type": "code",
   "execution_count": 180,
   "metadata": {
    "collapsed": false
   },
   "outputs": [
    {
     "data": {
      "text/plain": [
       "(array([ 0,  5,  6,  7,  8, 12, 13, 16, 19, 21, 22, 23, 24, 26, 27, 28, 30,\n",
       "        32, 34, 35, 36, 41, 43, 44, 47, 48, 50], dtype=int64),)"
      ]
     },
     "execution_count": 180,
     "metadata": {},
     "output_type": "execute_result"
    }
   ],
   "source": [
    "temp_data_np = np.array(temp_data.fillna(value=-9999))[:,1:]\n",
    "temp_np = temp_data_np[0]\n",
    "miss_np = np.where(temp_np<0)\n",
    "miss_np"
   ]
  },
  {
   "cell_type": "code",
   "execution_count": 181,
   "metadata": {
    "collapsed": false
   },
   "outputs": [
    {
     "name": "stdout",
     "output_type": "stream",
     "text": [
      "[55.5 54.5 44.5 55.0 55.0 45.0 59.0 46.5 41.0 43.5 42.0 67.0 44.5 40.5 55.0\n",
      " 44.0 60.0 67.5 39.0 43.5 58.0 64.0 54.0 69.0]\n"
     ]
    },
    {
     "data": {
      "text/plain": [
       "(860475L, 24L)"
      ]
     },
     "execution_count": 181,
     "metadata": {},
     "output_type": "execute_result"
    }
   ],
   "source": [
    "# Code to determine which gages have missing data and to exclude data from the calculation matrix\n",
    "temp_np = np.delete(temp_data_np[0], miss_np, 0)\n",
    "print temp_np\n",
    "dist_np = np.delete(distance_data, miss_np, 1)\n",
    "dist_np.shape"
   ]
  },
  {
   "cell_type": "code",
   "execution_count": 182,
   "metadata": {
    "collapsed": true
   },
   "outputs": [],
   "source": [
    "# code to create an inverse distance array can be changed to develop 1/D^2 and 1/1/D^3\n",
    "inver_dist_np = 1.0/dist_np"
   ]
  },
  {
   "cell_type": "code",
   "execution_count": 183,
   "metadata": {
    "collapsed": false
   },
   "outputs": [],
   "source": [
    "# Generate inverse distance weighted temperature for all coordinates\n",
    "IDW_array=IDWF(inver_dist_np,temp_np)"
   ]
  },
  {
   "cell_type": "code",
   "execution_count": 184,
   "metadata": {
    "collapsed": false
   },
   "outputs": [
    {
     "name": "stdout",
     "output_type": "stream",
     "text": [
      "0.580000162125\n"
     ]
    }
   ],
   "source": [
    "#IDW temperature grid creation\n",
    "start = time.time()\n",
    "i = 824\n",
    "j = 0\n",
    "counter = 0\n",
    "IDWtemp_np = np.zeros((825, 1043))\n",
    "while i > -1 :\n",
    "    while j < 1043:\n",
    "        IDWtemp_np[i, j]=IDW_array[counter]\n",
    "        #print i,j\n",
    "        #print counter\n",
    "        j += 1\n",
    "        counter += 1\n",
    "    i -= 1\n",
    "    j = 0\n",
    "end = time.time()\n",
    "print end - start"
   ]
  },
  {
   "cell_type": "code",
   "execution_count": 185,
   "metadata": {
    "collapsed": false
   },
   "outputs": [
    {
     "data": {
      "image/png": "[encoded data removed]",
      "text/plain": [
       "<matplotlib.figure.Figure at 0x1049dac8>"
      ]
     },
     "metadata": {},
     "output_type": "display_data"
    }
   ],
   "source": [
    "# Plot the IDW temp matrix:\n",
    "\n",
    "fig = plt.figure()\n",
    "ax = fig.gca()\n",
    "colmap = plt.get_cmap('gist_ncar') \n",
    "ax.matshow(IDWtemp_np, cmap=colmap) #_r => reverse the standard color map\n",
    "plt.tight_layout()\n",
    "#plt.savefig(\"rainfall_griddata.png\", format=\"png\", bbox_inches='tight', transparent=False, dpi=300)\n",
    "plt.show()\n"
   ]
  },
  {
   "cell_type": "code",
   "execution_count": 186,
   "metadata": {
    "collapsed": false
   },
   "outputs": [],
   "source": [
    "subbasin_temp = np.zeros((288,2))\n",
    "i = 0\n",
    "while i < 288:\n",
    "    subbasin_temp[i]=i, np.ma.mean(np.ma.masked_where(np.ma.getmask(np.ma.masked_where(basin_np != i, basin_np)), IDWtemp_np))\n",
    "    i += 1"
   ]
  },
  {
   "cell_type": "code",
   "execution_count": 191,
   "metadata": {
    "collapsed": false
   },
   "outputs": [],
   "source": [
    "evap = np.zeros((288,2))\n",
    "i = 0\n",
    "J = 12\n",
    "while i < 288:\n",
    "    evap[i] = i, Hamon(temp_data.loc[0,'Time'].to_datetime().timetuple().tm_yday,subbasin_temp[i,1],subbasin_lat[i,0])\n",
    "    i += 1"
   ]
  },
  {
   "cell_type": "code",
   "execution_count": 192,
   "metadata": {
    "collapsed": false
   },
   "outputs": [
    {
     "data": {
      "text/plain": [
       "array([[  0.00000000e+00,   3.03828129e-02],\n",
       "       [  1.00000000e+00,   3.13205671e-02],\n",
       "       [  2.00000000e+00,   2.95550925e-02],\n",
       "       [  3.00000000e+00,   2.84809102e-02],\n",
       "       [  4.00000000e+00,   3.12062887e-02],\n",
       "       [  5.00000000e+00,   3.21007860e-02],\n",
       "       [  6.00000000e+00,   3.16936472e-02],\n",
       "       [  7.00000000e+00,   3.15892439e-02],\n",
       "       [  8.00000000e+00,   3.31137745e-02],\n",
       "       [  9.00000000e+00,   3.40237973e-02],\n",
       "       [  1.00000000e+01,   3.54697575e-02],\n",
       "       [  1.10000000e+01,   3.53227862e-02],\n",
       "       [  1.20000000e+01,   3.59647442e-02],\n",
       "       [  1.30000000e+01,   3.62118573e-02],\n",
       "       [  1.40000000e+01,   3.73086359e-02],\n",
       "       [  1.50000000e+01,   3.69021811e-02],\n",
       "       [  1.60000000e+01,   3.81658067e-02],\n",
       "       [  1.70000000e+01,   3.77294782e-02],\n",
       "       [  1.80000000e+01,   4.08751779e-02],\n",
       "       [  1.90000000e+01,   3.17334706e-02],\n",
       "       [  2.00000000e+01,   3.15070082e-02],\n",
       "       [  2.10000000e+01,   3.14363738e-02],\n",
       "       [  2.20000000e+01,   3.17823311e-02],\n",
       "       [  2.30000000e+01,   3.16507448e-02],\n",
       "       [  2.40000000e+01,   3.18931844e-02],\n",
       "       [  2.50000000e+01,   3.16239054e-02],\n",
       "       [  2.60000000e+01,   3.17887247e-02],\n",
       "       [  2.70000000e+01,   3.16731924e-02],\n",
       "       [  2.80000000e+01,   3.18249911e-02],\n",
       "       [  2.90000000e+01,   3.16800672e-02],\n",
       "       [  3.00000000e+01,   3.17242058e-02],\n",
       "       [  3.10000000e+01,   3.19699189e-02],\n",
       "       [  3.20000000e+01,   3.19821774e-02],\n",
       "       [  3.30000000e+01,   3.18266091e-02],\n",
       "       [  3.40000000e+01,   3.19380900e-02],\n",
       "       [  3.50000000e+01,   3.20440527e-02],\n",
       "       [  3.60000000e+01,   3.18219097e-02],\n",
       "       [  3.70000000e+01,   3.20282979e-02],\n",
       "       [  3.80000000e+01,   3.16702799e-02],\n",
       "       [  3.90000000e+01,   3.16786168e-02],\n",
       "       [  4.00000000e+01,   3.17334260e-02],\n",
       "       [  4.10000000e+01,   3.16095715e-02],\n",
       "       [  4.20000000e+01,   3.18047926e-02],\n",
       "       [  4.30000000e+01,   3.18619092e-02],\n",
       "       [  4.40000000e+01,   3.20211351e-02],\n",
       "       [  4.50000000e+01,   3.19627191e-02],\n",
       "       [  4.60000000e+01,   3.15243462e-02],\n",
       "       [  4.70000000e+01,   3.20264276e-02],\n",
       "       [  4.80000000e+01,   3.19351715e-02],\n",
       "       [  4.90000000e+01,   3.16433304e-02],\n",
       "       [  5.00000000e+01,   3.15374285e-02],\n",
       "       [  5.10000000e+01,   3.13181509e-02],\n",
       "       [  5.20000000e+01,   3.14228524e-02],\n",
       "       [  5.30000000e+01,   3.13020804e-02],\n",
       "       [  5.40000000e+01,   3.13677879e-02],\n",
       "       [  5.50000000e+01,   3.14308458e-02],\n",
       "       [  5.60000000e+01,   3.14910288e-02],\n",
       "       [  5.70000000e+01,   3.14935545e-02],\n",
       "       [  5.80000000e+01,   3.15376943e-02],\n",
       "       [  5.90000000e+01,   3.15659337e-02],\n",
       "       [  6.00000000e+01,   3.16131113e-02],\n",
       "       [  6.10000000e+01,   3.13386952e-02],\n",
       "       [  6.20000000e+01,   3.16870837e-02],\n",
       "       [  6.30000000e+01,   3.19037312e-02],\n",
       "       [  6.40000000e+01,   3.14366698e-02],\n",
       "       [  6.50000000e+01,   3.15930333e-02],\n",
       "       [  6.60000000e+01,   3.17127784e-02],\n",
       "       [  6.70000000e+01,   3.17923793e-02],\n",
       "       [  6.80000000e+01,   3.13220278e-02],\n",
       "       [  6.90000000e+01,   3.12867383e-02],\n",
       "       [  7.00000000e+01,   3.18704220e-02],\n",
       "       [  7.10000000e+01,   3.13383754e-02],\n",
       "       [  7.20000000e+01,   3.12351927e-02],\n",
       "       [  7.30000000e+01,   3.18685132e-02],\n",
       "       [  7.40000000e+01,   3.15215541e-02],\n",
       "       [  7.50000000e+01,   3.18430155e-02],\n",
       "       [  7.60000000e+01,   3.17152286e-02],\n",
       "       [  7.70000000e+01,   3.19339115e-02],\n",
       "       [  7.80000000e+01,   3.20148967e-02],\n",
       "       [  7.90000000e+01,   3.16839449e-02],\n",
       "       [  8.00000000e+01,   3.17690374e-02],\n",
       "       [  8.10000000e+01,   3.18790522e-02],\n",
       "       [  8.20000000e+01,   3.21384597e-02],\n",
       "       [  8.30000000e+01,   3.22072916e-02],\n",
       "       [  8.40000000e+01,   3.23731798e-02],\n",
       "       [  8.50000000e+01,   3.23973099e-02],\n",
       "       [  8.60000000e+01,   3.24535081e-02],\n",
       "       [  8.70000000e+01,   3.25917290e-02],\n",
       "       [  8.80000000e+01,   3.24994277e-02],\n",
       "       [  8.90000000e+01,   3.22938789e-02],\n",
       "       [  9.00000000e+01,   3.25900981e-02],\n",
       "       [  9.10000000e+01,   3.21625301e-02],\n",
       "       [  9.20000000e+01,   3.18359504e-02],\n",
       "       [  9.30000000e+01,   3.20022676e-02],\n",
       "       [  9.40000000e+01,   3.13263494e-02],\n",
       "       [  9.50000000e+01,   3.17116971e-02],\n",
       "       [  9.60000000e+01,   3.16085094e-02],\n",
       "       [  9.70000000e+01,   3.15574353e-02],\n",
       "       [  9.80000000e+01,   3.19637830e-02],\n",
       "       [  9.90000000e+01,   3.16213523e-02],\n",
       "       [  1.00000000e+02,   3.14569455e-02],\n",
       "       [  1.01000000e+02,   3.12574283e-02],\n",
       "       [  1.02000000e+02,   3.17158139e-02],\n",
       "       [  1.03000000e+02,   3.23262804e-02],\n",
       "       [  1.04000000e+02,   3.19805781e-02],\n",
       "       [  1.05000000e+02,   3.17710849e-02],\n",
       "       [  1.06000000e+02,   3.12725309e-02],\n",
       "       [  1.07000000e+02,   3.13958210e-02],\n",
       "       [  1.08000000e+02,   3.19639904e-02],\n",
       "       [  1.09000000e+02,   3.22335967e-02],\n",
       "       [  1.10000000e+02,   3.18048358e-02],\n",
       "       [  1.11000000e+02,   3.19106952e-02],\n",
       "       [  1.12000000e+02,   3.21358495e-02],\n",
       "       [  1.13000000e+02,   3.15059770e-02],\n",
       "       [  1.14000000e+02,   3.12401741e-02],\n",
       "       [  1.15000000e+02,   3.13341504e-02],\n",
       "       [  1.16000000e+02,   3.09084022e-02],\n",
       "       [  1.17000000e+02,   3.12171305e-02],\n",
       "       [  1.18000000e+02,   3.15197849e-02],\n",
       "       [  1.19000000e+02,   3.12644330e-02],\n",
       "       [  1.20000000e+02,   3.11501196e-02],\n",
       "       [  1.21000000e+02,   3.13705095e-02],\n",
       "       [  1.22000000e+02,   3.11678815e-02],\n",
       "       [  1.23000000e+02,   3.09275686e-02],\n",
       "       [  1.24000000e+02,   3.08334901e-02],\n",
       "       [  1.25000000e+02,   3.05131839e-02],\n",
       "       [  1.26000000e+02,   3.09329980e-02],\n",
       "       [  1.27000000e+02,   3.01211644e-02],\n",
       "       [  1.28000000e+02,   3.08165361e-02],\n",
       "       [  1.29000000e+02,   3.02561699e-02],\n",
       "       [  1.30000000e+02,   3.05412435e-02],\n",
       "       [  1.31000000e+02,   3.03213021e-02],\n",
       "       [  1.32000000e+02,   3.09164896e-02],\n",
       "       [  1.33000000e+02,   3.09648159e-02],\n",
       "       [  1.34000000e+02,   3.13103496e-02],\n",
       "       [  1.35000000e+02,   3.00431253e-02],\n",
       "       [  1.36000000e+02,   2.98442067e-02],\n",
       "       [  1.37000000e+02,   3.03623842e-02],\n",
       "       [  1.38000000e+02,   2.99701020e-02],\n",
       "       [  1.39000000e+02,   3.02581570e-02],\n",
       "       [  1.40000000e+02,   3.21914021e-02],\n",
       "       [  1.41000000e+02,   3.01824995e-02],\n",
       "       [  1.42000000e+02,   3.20425897e-02],\n",
       "       [  1.43000000e+02,   3.17353517e-02],\n",
       "       [  1.44000000e+02,   3.18008871e-02],\n",
       "       [  1.45000000e+02,   3.12890791e-02],\n",
       "       [  1.46000000e+02,   3.18353019e-02],\n",
       "       [  1.47000000e+02,   3.04384703e-02],\n",
       "       [  1.48000000e+02,   3.12852609e-02],\n",
       "       [  1.49000000e+02,   3.18501729e-02],\n",
       "       [  1.50000000e+02,   3.19885343e-02],\n",
       "       [  1.51000000e+02,   3.28353507e-02],\n",
       "       [  1.52000000e+02,   3.07190324e-02],\n",
       "       [  1.53000000e+02,   2.99577353e-02],\n",
       "       [  1.54000000e+02,   3.03174712e-02],\n",
       "       [  1.55000000e+02,   3.07439513e-02],\n",
       "       [  1.56000000e+02,   2.99449788e-02],\n",
       "       [  1.57000000e+02,   3.04347934e-02],\n",
       "       [  1.58000000e+02,   3.05757189e-02],\n",
       "       [  1.59000000e+02,   2.96334734e-02],\n",
       "       [  1.60000000e+02,   3.18202205e-02],\n",
       "       [  1.61000000e+02,   3.29333476e-02],\n",
       "       [  1.62000000e+02,   3.36826066e-02],\n",
       "       [  1.63000000e+02,   3.31781415e-02],\n",
       "       [  1.64000000e+02,   3.38495923e-02],\n",
       "       [  1.65000000e+02,   3.43596630e-02],\n",
       "       [  1.66000000e+02,   3.41785416e-02],\n",
       "       [  1.67000000e+02,   3.64294483e-02],\n",
       "       [  1.68000000e+02,   3.61818612e-02],\n",
       "       [  1.69000000e+02,   3.59359402e-02],\n",
       "       [  1.70000000e+02,   3.61776206e-02],\n",
       "       [  1.71000000e+02,   3.99117240e-02],\n",
       "       [  1.72000000e+02,   3.93408763e-02],\n",
       "       [  1.73000000e+02,   3.93141542e-02],\n",
       "       [  1.74000000e+02,   3.84169248e-02],\n",
       "       [  1.75000000e+02,   3.85919588e-02],\n",
       "       [  1.76000000e+02,   4.01131572e-02],\n",
       "       [  1.77000000e+02,   3.79310664e-02],\n",
       "       [  1.78000000e+02,   3.74306894e-02],\n",
       "       [  1.79000000e+02,   3.64389012e-02],\n",
       "       [  1.80000000e+02,   3.47657325e-02],\n",
       "       [  1.81000000e+02,   3.24803803e-02],\n",
       "       [  1.82000000e+02,   3.08596122e-02],\n",
       "       [  1.83000000e+02,   3.20395813e-02],\n",
       "       [  1.84000000e+02,   3.08378958e-02],\n",
       "       [  1.85000000e+02,   3.04702782e-02],\n",
       "       [  1.86000000e+02,   3.04005399e-02],\n",
       "       [  1.87000000e+02,   3.05384868e-02],\n",
       "       [  1.88000000e+02,   3.06840557e-02],\n",
       "       [  1.89000000e+02,   2.89554346e-02],\n",
       "       [  1.90000000e+02,   3.21577114e-02],\n",
       "       [  1.91000000e+02,   3.16425050e-02],\n",
       "       [  1.92000000e+02,   3.04961412e-02],\n",
       "       [  1.93000000e+02,   3.16476665e-02],\n",
       "       [  1.94000000e+02,   3.13709768e-02],\n",
       "       [  1.95000000e+02,   3.18840800e-02],\n",
       "       [  1.96000000e+02,   2.84297166e-02],\n",
       "       [  1.97000000e+02,   2.87263093e-02],\n",
       "       [  1.98000000e+02,   3.00975521e-02],\n",
       "       [  1.99000000e+02,   2.99271559e-02],\n",
       "       [  2.00000000e+02,   2.88705356e-02],\n",
       "       [  2.01000000e+02,   2.90743614e-02],\n",
       "       [  2.02000000e+02,   2.97765388e-02],\n",
       "       [  2.03000000e+02,   2.96183317e-02],\n",
       "       [  2.04000000e+02,   3.03237622e-02],\n",
       "       [  2.05000000e+02,   3.02344779e-02],\n",
       "       [  2.06000000e+02,   3.06338190e-02],\n",
       "       [  2.07000000e+02,   3.06410644e-02],\n",
       "       [  2.08000000e+02,   3.08560109e-02],\n",
       "       [  2.09000000e+02,   3.10410373e-02],\n",
       "       [  2.10000000e+02,   3.07656900e-02],\n",
       "       [  2.11000000e+02,   3.11066568e-02],\n",
       "       [  2.12000000e+02,   3.11465886e-02],\n",
       "       [  2.13000000e+02,   2.96759505e-02],\n",
       "       [  2.14000000e+02,   2.99460053e-02],\n",
       "       [  2.15000000e+02,   3.00900473e-02],\n",
       "       [  2.16000000e+02,   3.01489965e-02],\n",
       "       [  2.17000000e+02,   2.94775169e-02],\n",
       "       [  2.18000000e+02,   2.99202481e-02],\n",
       "       [  2.19000000e+02,   3.01781573e-02],\n",
       "       [  2.20000000e+02,   3.03569022e-02],\n",
       "       [  2.21000000e+02,   3.02922482e-02],\n",
       "       [  2.22000000e+02,   3.03607245e-02],\n",
       "       [  2.23000000e+02,   3.03187115e-02],\n",
       "       [  2.24000000e+02,   3.03756367e-02],\n",
       "       [  2.25000000e+02,   3.03723526e-02],\n",
       "       [  2.26000000e+02,   3.03447283e-02],\n",
       "       [  2.27000000e+02,   3.03632814e-02],\n",
       "       [  2.28000000e+02,   3.07696587e-02],\n",
       "       [  2.29000000e+02,   3.09043251e-02],\n",
       "       [  2.30000000e+02,   3.09134338e-02],\n",
       "       [  2.31000000e+02,   3.10386973e-02],\n",
       "       [  2.32000000e+02,   3.09233406e-02],\n",
       "       [  2.33000000e+02,   3.11127304e-02],\n",
       "       [  2.34000000e+02,   3.06412310e-02],\n",
       "       [  2.35000000e+02,   3.05422657e-02],\n",
       "       [  2.36000000e+02,   3.05487743e-02],\n",
       "       [  2.37000000e+02,   3.01791631e-02],\n",
       "       [  2.38000000e+02,   3.01743350e-02],\n",
       "       [  2.39000000e+02,   3.03611313e-02],\n",
       "       [  2.40000000e+02,   3.05119505e-02],\n",
       "       [  2.41000000e+02,   3.00247297e-02],\n",
       "       [  2.42000000e+02,   3.03211565e-02],\n",
       "       [  2.43000000e+02,   3.03888057e-02],\n",
       "       [  2.44000000e+02,   3.06553866e-02],\n",
       "       [  2.45000000e+02,   3.03999986e-02],\n",
       "       [  2.46000000e+02,   3.04140525e-02],\n",
       "       [  2.47000000e+02,   3.11408249e-02],\n",
       "       [  2.48000000e+02,   3.10505369e-02],\n",
       "       [  2.49000000e+02,   3.08894700e-02],\n",
       "       [  2.50000000e+02,   3.14660388e-02],\n",
       "       [  2.51000000e+02,   3.14990974e-02],\n",
       "       [  2.52000000e+02,   3.15545157e-02],\n",
       "       [  2.53000000e+02,   3.14636109e-02],\n",
       "       [  2.54000000e+02,   3.15854209e-02],\n",
       "       [  2.55000000e+02,   3.16327859e-02],\n",
       "       [  2.56000000e+02,   3.04197307e-02],\n",
       "       [  2.57000000e+02,   3.02158954e-02],\n",
       "       [  2.58000000e+02,   3.02868217e-02],\n",
       "       [  2.59000000e+02,   3.08968667e-02],\n",
       "       [  2.60000000e+02,   3.11761076e-02],\n",
       "       [  2.61000000e+02,   3.09117952e-02],\n",
       "       [  2.62000000e+02,   3.12634863e-02],\n",
       "       [  2.63000000e+02,   3.12158464e-02],\n",
       "       [  2.64000000e+02,   3.15186876e-02],\n",
       "       [  2.65000000e+02,   3.14166781e-02],\n",
       "       [  2.66000000e+02,   3.22955577e-02],\n",
       "       [  2.67000000e+02,   3.13751363e-02],\n",
       "       [  2.68000000e+02,   3.17622963e-02],\n",
       "       [  2.69000000e+02,   3.22906858e-02],\n",
       "       [  2.70000000e+02,   3.26462206e-02],\n",
       "       [  2.71000000e+02,   3.22926605e-02],\n",
       "       [  2.72000000e+02,   3.24755076e-02],\n",
       "       [  2.73000000e+02,   3.16791639e-02],\n",
       "       [  2.74000000e+02,   3.16517458e-02],\n",
       "       [  2.75000000e+02,   3.07009814e-02],\n",
       "       [  2.76000000e+02,   3.11361743e-02],\n",
       "       [  2.77000000e+02,   3.04762857e-02],\n",
       "       [  2.78000000e+02,   3.13545037e-02],\n",
       "       [  2.79000000e+02,   3.54985416e-02],\n",
       "       [  2.80000000e+02,   3.46814382e-02],\n",
       "       [  2.81000000e+02,   3.89014793e-02],\n",
       "       [  2.82000000e+02,   3.91377890e-02],\n",
       "       [  2.83000000e+02,   3.93856182e-02],\n",
       "       [  2.84000000e+02,   3.06122401e-02],\n",
       "       [  2.85000000e+02,   3.07607863e-02],\n",
       "       [  2.86000000e+02,   3.08310742e-02],\n",
       "       [  2.87000000e+02,   3.08460147e-02]])"
      ]
     },
     "execution_count": 192,
     "metadata": {},
     "output_type": "execute_result"
    }
   ],
   "source": [
    "evap"
   ]
  },
  {
   "cell_type": "code",
   "execution_count": null,
   "metadata": {
    "collapsed": true
   },
   "outputs": [],
   "source": []
  }
 ],
 "metadata": {
  "kernelspec": {
   "display_name": "Python 2",
   "language": "python",
   "name": "python2"
  },
  "language_info": {
   "codemirror_mode": {
    "name": "ipython",
    "version": 2
   },
   "file_extension": ".py",
   "mimetype": "text/x-python",
   "name": "python",
   "nbconvert_exporter": "python",
   "pygments_lexer": "ipython2",
   "version": "2.7.10"
  }
 },
 "nbformat": 4,
 "nbformat_minor": 2
}
